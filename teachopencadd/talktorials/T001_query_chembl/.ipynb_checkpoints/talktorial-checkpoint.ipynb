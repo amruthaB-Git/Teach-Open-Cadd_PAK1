{
 "cells": [
  {
   "attachments": {},
   "cell_type": "markdown",
   "metadata": {},
   "source": [
    "# T001 · Compound data acquisition (ChEMBL)\n",
    "\n",
    "**Note:** This talktorial is a part of TeachOpenCADD, a platform that aims to teach domain-specific skills and to provide pipeline templates as starting points for research projects.\n",
    "\n",
    "Authors:\n",
    "\n",
    "- Svetlana Leng, CADD seminar 2017, Volkamer lab, Charité/FU Berlin \n",
    "- Paula Junge, CADD seminar 2018, Volkamer lab, Charité/FU Berlin\n",
    "- Dominique Sydow, 2019-2020, [Volkamer lab, Charité](https://volkamerlab.org/)\n",
    "- Andrea Volkamer, 2020, [Volkamer lab, Charité](https://volkamerlab.org/)\n",
    "- Yonghui Chen, 2020, [Volkamer lab, Charité](https://volkamerlab.org/)"
   ]
  },
  {
   "attachments": {},
   "cell_type": "markdown",
   "metadata": {},
   "source": [
    "__Talktorial T001__: This talktorial is part of the TeachOpenCADD pipeline described in the [first TeachOpenCADD paper](https://jcheminf.biomedcentral.com/articles/10.1186/s13321-019-0351-x), comprising of talktorials T001-T010."
   ]
  },
  {
   "attachments": {},
   "cell_type": "markdown",
   "metadata": {
    "jp-MarkdownHeadingCollapsed": true
   },
   "source": [
    "## Aim of this talktorial\n",
    "\n",
    "In this notebook, we will learn more about the ChEMBL database and how to extract data from ChEMBL, i.e. (compound, activity data) pairs for a target of interest. These data sets can be used for many cheminformatics tasks, such as similarity search, clustering or machine learning.\n",
    "\n",
    "Our work here will include finding compounds that were tested against a certain target and filtering available bioactivity data."
   ]
  },
  {
   "attachments": {},
   "cell_type": "markdown",
   "metadata": {},
   "source": [
    "### Contents in *Theory*\n",
    "\n",
    "* ChEMBL database\n",
    "    * ChEMBL web services\n",
    "    * ChEMBL web resource client\n",
    "* Compound activity measures\n",
    "    * IC50 measure\n",
    "    * pIC50 value"
   ]
  },
  {
   "attachments": {},
   "cell_type": "markdown",
   "metadata": {},
   "source": [
    "### Contents in *Practical*\n",
    "    \n",
    "**Goal: Get a list of compounds with bioactivity data for a given target**\n",
    "\n",
    "* Connect to ChEMBL database\n",
    "* Get target data (example: EGFR kinase)\n",
    "    * Fetch and download target data\n",
    "    * Select target ChEMBL ID\n",
    "* Get bioactivity data\n",
    "    * Fetch and download bioactivity data for targets\n",
    "    * Preprocess and filter bioactivity data\n",
    "* Get compound data\n",
    "    * Fetch and download compound data\n",
    "    * Preprocess and filter compound data\n",
    "* Output bioactivity-compound data\n",
    "    * Merge bioactivity and compound data, and add pIC50 values\n",
    "    * Draw molecules with highest pIC50\n",
    "    * Freeze bioactivity data to ChEMBL 27\n",
    "    * Write output file"
   ]
  },
  {
   "attachments": {},
   "cell_type": "markdown",
   "metadata": {},
   "source": [
    "### References\n",
    "\n",
    "* ChEMBL bioactivity database: [Gaulton *et al.*, <i>Nucleic Acids Res.</i> (2017), 45(Database issue), D945–D954](https://www.ncbi.nlm.nih.gov/pmc/articles/PMC5210557/)\n",
    "* ChEMBL web services: [Davies *et al.*, <i>Nucleic Acids Res.</i> (2015), <b>43</b>, 612-620](https://academic.oup.com/nar/article/43/W1/W612/2467881) \n",
    "* [ChEMBL web-interface](https://www.ebi.ac.uk/chembl/)\n",
    "*  GitHub [ChEMBL web rescource client](https://github.com/chembl/chembl_webresource_client)\n",
    "* The EBI RDF platform: [Jupp *et al.*, <i>Bioinformatics </i> (2014), 30(9), 1338-9](https://www.ncbi.nlm.nih.gov/pubmed/24413672)\n",
    "* Info on half maximal inhibitory concentration: [(p)IC50](https://en.wikipedia.org/wiki/IC50)\n",
    "* [UniProt website](https://www.uniprot.org/)"
   ]
  },
  {
   "attachments": {},
   "cell_type": "markdown",
   "metadata": {
    "jp-MarkdownHeadingCollapsed": true
   },
   "source": [
    "## Theory"
   ]
  },
  {
   "attachments": {},
   "cell_type": "markdown",
   "metadata": {},
   "source": [
    "### ChEMBL database\n",
    ">\"ChEMBL is a manually curated database of bioactive molecules with drug-like properties. It brings together chemical, bioactivity and genomic data to aid the translation of genomic information into effective new drugs.\" ([ChEMBL website](https://www.ebi.ac.uk/chembl/))\n",
    "\n",
    "* Open large-scale bioactivity database\n",
    "* **Current data content (as of 09.2020, ChEMBL 27):**\n",
    "    * \\>1.9 million distinct compounds\n",
    "    * \\>16 million activity values\n",
    "    * Assays are mapped to ~13,000 targets\n",
    "* **Data sources** include scientific literature, PubChem bioassays, Drugs for Neglected Diseases Initiative (DNDi), BindingDB database, ...\n",
    "* ChEMBL data can be accessed via a [web-interface](https://www.ebi.ac.uk/chembl/), the [EBI-RDF platform](https://www.ncbi.nlm.nih.gov/pubmed/24413672) and the [ChEMBL web rescource client](https://github.com/chembl/chembl_webresource_client)"
   ]
  },
  {
   "attachments": {},
   "cell_type": "markdown",
   "metadata": {},
   "source": [
    "#### ChEMBL web services\n",
    "\n",
    "* RESTful web service\n",
    "* ChEMBL web service version 2.x resource schema: \n",
    "\n",
    "![ChEMBL web service schema](images/chembl_webservices_schema_diagram.jpg)\n",
    "\n",
    "*Figure 1:* \n",
    "\"[ChEMBL web service schema diagram](https://www.ncbi.nlm.nih.gov/pmc/articles/PMC4489243/figure/F2/). The oval shapes represent ChEMBL web service resources and the line between two resources indicates that they share a common attribute. The arrow direction shows where the primary information about a resource type can be found. A dashed line indicates the relationship between two resources behaves differently. For example, the `Image` resource provides a graphical-based representation of a `Molecule`.\"\n",
    "Figure and description are taken from: [<i>Nucleic Acids Res.</i> (2015), <b>43</b>, 612-620](https://academic.oup.com/nar/article/43/W1/W612/2467881)."
   ]
  },
  {
   "attachments": {},
   "cell_type": "markdown",
   "metadata": {},
   "source": [
    "#### ChEMBL web resource client\n",
    "\n",
    "* Python client library for accessing ChEMBL data\n",
    "* Handles interaction with the HTTPS protocol\n",
    "* Lazy evaluation of results -> reduced number of network requests"
   ]
  },
  {
   "attachments": {},
   "cell_type": "markdown",
   "metadata": {},
   "source": [
    "### Compound activity measures"
   ]
  },
  {
   "attachments": {},
   "cell_type": "markdown",
   "metadata": {},
   "source": [
    "#### IC50 measure\n",
    "\n",
    "* [Half maximal inhibitory concentration](https://en.wikipedia.org/wiki/IC50)\n",
    "* Indicates how much of a particular drug or other substance is needed to inhibit a given biological process by half\n",
    "\n",
    "![Wiki_Example_IC50_curve_demonstrating_visually_how_IC50_is_derived](images/Wiki_Example_IC50_curve_demonstrating_visually_how_IC50_is_derived.png)\n",
    "\n",
    "*Figure 2:* Visual demonstration of how to derive an IC50 value: \n",
    "(i) Arrange inhibition data on y-axis and log(concentration) on x-axis. (ii) Identify maximum and minimum inhibition. (iii) The IC50 is the concentration at which the curve passes through the 50% inhibition level. Figure [\"Example IC50 curve demonstrating visually how IC50 is derived\"](https://en.wikipedia.org/wiki/IC50#/media/File:Example_IC50_curve_demonstrating_visually_how_IC50_is_derived.png) by JesseAlanGordon is licensed under [CC BY-SA 3.0](https://creativecommons.org/licenses/by-sa/3.0/)."
   ]
  },
  {
   "attachments": {},
   "cell_type": "markdown",
   "metadata": {},
   "source": [
    "#### pIC50 value\n",
    "\n",
    "* To facilitate the comparison of IC50 values, which have a large value range and are given in different units (M, nM, ...), often pIC50 values are used\n",
    "* The pIC50 is the negative log of the IC50 value when converted to molar units: \n",
    "    $ pIC_{50} = -log_{10}(IC_{50}) $, where $ IC_{50}$ is specified in units of M\n",
    "* Higher pIC50 values indicate exponentially greater potency of the drug\n",
    "* Note that the conversion can be adapted to the respective IC50 unit, e.g. for nM: $pIC_{50} = -log_{10}(IC_{50}*10^{-9})= 9-log_{10}(IC_{50}) $\n",
    "\n",
    "Other activity measures:\n",
    "\n",
    "Besides, IC50 and pIC50, other bioactivity measures are used, such as the equilibrium constant [KI](https://en.wikipedia.org/wiki/Equilibrium_constant) and the half-maximal effective concentration  [EC50](https://en.wikipedia.org/wiki/EC50)."
   ]
  },
  {
   "attachments": {},
   "cell_type": "markdown",
   "metadata": {},
   "source": [
    "## Practical\n",
    "\n",
    "In the following, we want to download all molecules that have been tested against our target of interest, the **epidermal growth factor receptor** ([**EGFR**](https://www.uniprot.org/uniprot/P00533)) kinase."
   ]
  },
  {
   "attachments": {},
   "cell_type": "markdown",
   "metadata": {},
   "source": [
    "### Connect to ChEMBL database"
   ]
  },
  {
   "attachments": {},
   "cell_type": "markdown",
   "metadata": {},
   "source": [
    "First, the ChEMBL web resource client as well as other Python libraries are imported."
   ]
  },
  {
   "cell_type": "code",
   "execution_count": 56,
   "metadata": {},
   "outputs": [],
   "source": [
    "import math\n",
    "from pathlib import Path\n",
    "from zipfile import ZipFile\n",
    "from tempfile import TemporaryDirectory\n",
    "\n",
    "import numpy as np\n",
    "import pandas as pd\n",
    "from rdkit.Chem import PandasTools\n",
    "from chembl_webresource_client.new_client import new_client\n",
    "from tqdm.auto import tqdm"
   ]
  },
  {
   "cell_type": "code",
   "execution_count": 57,
   "metadata": {},
   "outputs": [],
   "source": [
    "HERE = Path(_dh[-1])\n",
    "DATA = HERE / \"data\""
   ]
  },
  {
   "attachments": {},
   "cell_type": "markdown",
   "metadata": {},
   "source": [
    "Next, we create resource objects for API access."
   ]
  },
  {
   "cell_type": "code",
   "execution_count": 58,
   "metadata": {},
   "outputs": [],
   "source": [
    "targets_api = new_client.target\n",
    "compounds_api = new_client.molecule\n",
    "bioactivities_api = new_client.activity"
   ]
  },
  {
   "cell_type": "code",
   "execution_count": 59,
   "metadata": {},
   "outputs": [
    {
     "data": {
      "text/plain": [
       "chembl_webresource_client.query_set.QuerySet"
      ]
     },
     "execution_count": 59,
     "metadata": {},
     "output_type": "execute_result"
    }
   ],
   "source": [
    "type(targets_api)"
   ]
  },
  {
   "attachments": {},
   "cell_type": "markdown",
   "metadata": {},
   "source": [
    "### Get target data (EGFR kinase)\n",
    "\n",
    "* Get UniProt ID of the target of interest (PAK1 - p21-activated kinase 1):  [Q13152](http://www.uniprot.org/uniprot/Q13153)) from [UniProt website](https://www.uniprot.org/)\n",
    "* Use UniProt ID to get target information\n",
    "\n",
    "Select a different UniProt ID, if you are interested in another target."
   ]
  },
  {
   "cell_type": "code",
   "execution_count": 60,
   "metadata": {},
   "outputs": [],
   "source": [
    "uniprot_id = \"Q13153\""
   ]
  },
  {
   "attachments": {},
   "cell_type": "markdown",
   "metadata": {},
   "source": [
    "#### Fetch target data from ChEMBL"
   ]
  },
  {
   "cell_type": "code",
   "execution_count": 61,
   "metadata": {},
   "outputs": [
    {
     "name": "stdout",
     "output_type": "stream",
     "text": [
      "The type of the targets is \"<class 'chembl_webresource_client.query_set.QuerySet'>\"\n"
     ]
    }
   ],
   "source": [
    "# Get target information from ChEMBL but restrict it to specified values only\n",
    "targets = targets_api.get(target_components__accession=uniprot_id).only(\n",
    "    \"target_chembl_id\", \"organism\", \"pref_name\", \"target_type\"\n",
    ")\n",
    "print(f'The type of the targets is \"{type(targets)}\"')"
   ]
  },
  {
   "attachments": {},
   "cell_type": "markdown",
   "metadata": {},
   "source": [
    "#### Download target data from ChEMBL\n",
    "\n",
    "The results of the query are stored in `targets`, a `QuerySet`, i.e. the results are not fetched from ChEMBL until we ask for it (here using `pandas.DataFrame.from_records`).\n",
    "\n",
    "More information about the `QuerySet` datatype:\n",
    "\n",
    "> QuerySets are lazy – the act of creating a QuerySet does not involve any database activity. You can stack filters together all day long, and Django will actually not run the query until the QuerySet is evaluated. \n",
    "([querysets-are-lazy](https://docs.djangoproject.com/en/3.0/topics/db/queries/#querysets-are-lazy))"
   ]
  },
  {
   "cell_type": "code",
   "execution_count": 62,
   "metadata": {},
   "outputs": [
    {
     "data": {
      "text/html": [
       "<div>\n",
       "<style scoped>\n",
       "    .dataframe tbody tr th:only-of-type {\n",
       "        vertical-align: middle;\n",
       "    }\n",
       "\n",
       "    .dataframe tbody tr th {\n",
       "        vertical-align: top;\n",
       "    }\n",
       "\n",
       "    .dataframe thead th {\n",
       "        text-align: right;\n",
       "    }\n",
       "</style>\n",
       "<table border=\"1\" class=\"dataframe\">\n",
       "  <thead>\n",
       "    <tr style=\"text-align: right;\">\n",
       "      <th></th>\n",
       "      <th>organism</th>\n",
       "      <th>pref_name</th>\n",
       "      <th>target_chembl_id</th>\n",
       "      <th>target_type</th>\n",
       "    </tr>\n",
       "  </thead>\n",
       "  <tbody>\n",
       "    <tr>\n",
       "      <th>0</th>\n",
       "      <td>Homo sapiens</td>\n",
       "      <td>Serine/threonine-protein kinase PAK 1</td>\n",
       "      <td>CHEMBL4600</td>\n",
       "      <td>SINGLE PROTEIN</td>\n",
       "    </tr>\n",
       "    <tr>\n",
       "      <th>1</th>\n",
       "      <td>Homo sapiens</td>\n",
       "      <td>Serine/threonine-protein kinase PAK 1</td>\n",
       "      <td>CHEMBL4600</td>\n",
       "      <td>SINGLE PROTEIN</td>\n",
       "    </tr>\n",
       "    <tr>\n",
       "      <th>2</th>\n",
       "      <td>Homo sapiens</td>\n",
       "      <td>Serine/threonine-protein kinase PAK 1/PAK 2</td>\n",
       "      <td>CHEMBL3885636</td>\n",
       "      <td>PROTEIN FAMILY</td>\n",
       "    </tr>\n",
       "    <tr>\n",
       "      <th>3</th>\n",
       "      <td>Homo sapiens</td>\n",
       "      <td>Serine/threonine-protein kinase PAK 1/PAK 2/PAK 3</td>\n",
       "      <td>CHEMBL3885637</td>\n",
       "      <td>PROTEIN FAMILY</td>\n",
       "    </tr>\n",
       "    <tr>\n",
       "      <th>4</th>\n",
       "      <td>Homo sapiens</td>\n",
       "      <td>PAK 1/CDC42</td>\n",
       "      <td>CHEMBL4296113</td>\n",
       "      <td>PROTEIN COMPLEX</td>\n",
       "    </tr>\n",
       "    <tr>\n",
       "      <th>5</th>\n",
       "      <td>Homo sapiens</td>\n",
       "      <td>Cereblon/Serine/threonine-protein kinase PAK 1</td>\n",
       "      <td>CHEMBL5291682</td>\n",
       "      <td>PROTEIN-PROTEIN INTERACTION</td>\n",
       "    </tr>\n",
       "  </tbody>\n",
       "</table>\n",
       "</div>"
      ],
      "text/plain": [
       "       organism                                          pref_name  \\\n",
       "0  Homo sapiens              Serine/threonine-protein kinase PAK 1   \n",
       "1  Homo sapiens              Serine/threonine-protein kinase PAK 1   \n",
       "2  Homo sapiens        Serine/threonine-protein kinase PAK 1/PAK 2   \n",
       "3  Homo sapiens  Serine/threonine-protein kinase PAK 1/PAK 2/PAK 3   \n",
       "4  Homo sapiens                                        PAK 1/CDC42   \n",
       "5  Homo sapiens     Cereblon/Serine/threonine-protein kinase PAK 1   \n",
       "\n",
       "  target_chembl_id                  target_type  \n",
       "0       CHEMBL4600               SINGLE PROTEIN  \n",
       "1       CHEMBL4600               SINGLE PROTEIN  \n",
       "2    CHEMBL3885636               PROTEIN FAMILY  \n",
       "3    CHEMBL3885637               PROTEIN FAMILY  \n",
       "4    CHEMBL4296113              PROTEIN COMPLEX  \n",
       "5    CHEMBL5291682  PROTEIN-PROTEIN INTERACTION  "
      ]
     },
     "execution_count": 62,
     "metadata": {},
     "output_type": "execute_result"
    }
   ],
   "source": [
    "targets = pd.DataFrame.from_records(targets)\n",
    "targets"
   ]
  },
  {
   "attachments": {},
   "cell_type": "markdown",
   "metadata": {},
   "source": [
    "#### Select target (target ChEMBL ID)\n",
    "\n",
    "After checking the entries, we select the first entry as our target of interest:\n",
    "\n",
    "`CHEMBL4600`: It is a single protein and represents the human Serine/threonine-protein kinase (PAK 1)"
   ]
  },
  {
   "cell_type": "code",
   "execution_count": 63,
   "metadata": {},
   "outputs": [
    {
     "data": {
      "text/plain": [
       "organism                                     Homo sapiens\n",
       "pref_name           Serine/threonine-protein kinase PAK 1\n",
       "target_chembl_id                               CHEMBL4600\n",
       "target_type                                SINGLE PROTEIN\n",
       "Name: 0, dtype: object"
      ]
     },
     "execution_count": 63,
     "metadata": {},
     "output_type": "execute_result"
    }
   ],
   "source": [
    "target = targets.iloc[0]\n",
    "target"
   ]
  },
  {
   "attachments": {},
   "cell_type": "markdown",
   "metadata": {},
   "source": [
    "Save selected ChEMBL ID."
   ]
  },
  {
   "cell_type": "code",
   "execution_count": 64,
   "metadata": {},
   "outputs": [
    {
     "name": "stdout",
     "output_type": "stream",
     "text": [
      "The target ChEMBL ID is CHEMBL4600\n"
     ]
    }
   ],
   "source": [
    "chembl_id = target.target_chembl_id\n",
    "print(f\"The target ChEMBL ID is {chembl_id}\")\n",
    "# NBVAL_CHECK_OUTPUT"
   ]
  },
  {
   "attachments": {},
   "cell_type": "markdown",
   "metadata": {},
   "source": [
    "### Get bioactivity data\n",
    "\n",
    "Now, we want to query bioactivity data for the target of interest."
   ]
  },
  {
   "attachments": {},
   "cell_type": "markdown",
   "metadata": {},
   "source": [
    "#### Fetch bioactivity data for the target from ChEMBL"
   ]
  },
  {
   "attachments": {},
   "cell_type": "markdown",
   "metadata": {},
   "source": [
    "In this step, we fetch the bioactivity data and filter it to only consider\n",
    "\n",
    "* human proteins, \n",
    "* bioactivity type IC50, \n",
    "* exact measurements (relation `'='`), and\n",
    "* binding data (assay type `'B'`)."
   ]
  },
  {
   "cell_type": "code",
   "execution_count": 65,
   "metadata": {},
   "outputs": [
    {
     "name": "stdout",
     "output_type": "stream",
     "text": [
      "Length and type of bioactivities object: 286, <class 'chembl_webresource_client.query_set.QuerySet'>\n"
     ]
    }
   ],
   "source": [
    "bioactivities = bioactivities_api.filter(\n",
    "    target_chembl_id=chembl_id, type=\"IC50\", relation=\"=\", assay_type=\"B\"\n",
    ").only(\n",
    "    \"activity_id\",\n",
    "    \"assay_chembl_id\",\n",
    "    \"assay_description\",\n",
    "    \"assay_type\",\n",
    "    \"molecule_chembl_id\",\n",
    "    \"type\",\n",
    "    \"standard_units\",\n",
    "    \"relation\",\n",
    "    \"standard_value\",\n",
    "    \"target_chembl_id\",\n",
    "    \"target_organism\",\n",
    ")\n",
    "\n",
    "print(f\"Length and type of bioactivities object: {len(bioactivities)}, {type(bioactivities)}\")"
   ]
  },
  {
   "attachments": {},
   "cell_type": "markdown",
   "metadata": {},
   "source": [
    "Each entry in our bioactivity set holds the following information:"
   ]
  },
  {
   "cell_type": "code",
   "execution_count": 66,
   "metadata": {},
   "outputs": [
    {
     "name": "stdout",
     "output_type": "stream",
     "text": [
      "Length and type of first element: 13, <class 'dict'>\n"
     ]
    },
    {
     "data": {
      "text/plain": [
       "{'activity_id': 2114124,\n",
       " 'assay_chembl_id': 'CHEMBL935260',\n",
       " 'assay_description': 'Inhibition of PAK1',\n",
       " 'assay_type': 'B',\n",
       " 'molecule_chembl_id': 'CHEMBL271139',\n",
       " 'relation': '=',\n",
       " 'standard_units': 'nM',\n",
       " 'standard_value': '18000.0',\n",
       " 'target_chembl_id': 'CHEMBL4600',\n",
       " 'target_organism': 'Homo sapiens',\n",
       " 'type': 'IC50',\n",
       " 'units': 'uM',\n",
       " 'value': '18.0'}"
      ]
     },
     "execution_count": 66,
     "metadata": {},
     "output_type": "execute_result"
    }
   ],
   "source": [
    "print(f\"Length and type of first element: {len(bioactivities[0])}, {type(bioactivities[0])}\")\n",
    "bioactivities[0]"
   ]
  },
  {
   "attachments": {},
   "cell_type": "markdown",
   "metadata": {},
   "source": [
    "#### Download bioactivity data from ChEMBL"
   ]
  },
  {
   "attachments": {},
   "cell_type": "markdown",
   "metadata": {},
   "source": [
    "Finally, we download the `QuerySet` in the form of a `pandas` `DataFrame`. \n",
    "\n",
    "> **Note**: This step should not take more than 2 minutes, if so try to rerun all cells starting from _\"Fetch bioactivity data for the target from ChEMBL\"_ or read this message below:\n",
    "\n",
    "<details>\n",
    "    \n",
    "<summary>Load a local version of the data (in case you encounter any problems while fetching the data)</summary>\n",
    "    \n",
    "If you experience difficulties to query the ChEMBL database, we also provide the resulting dataframe you will construct in the cell below. If you want to use the saved version, use the following code instead to obtain `bioactivities_df`:\n",
    "  \n",
    "```python\n",
    "# replace first line in cell below with this other line\n",
    "bioactivities_df = pd.read_csv(DATA / \"EGFR_bioactivities_CHEMBL27.csv.zip\", index_col=0)\n",
    "```\n",
    "\n",
    "</details>"
   ]
  },
  {
   "cell_type": "code",
   "execution_count": 67,
   "metadata": {},
   "outputs": [
    {
     "name": "stdout",
     "output_type": "stream",
     "text": [
      "DataFrame shape: (286, 13)\n"
     ]
    },
    {
     "data": {
      "text/html": [
       "<div>\n",
       "<style scoped>\n",
       "    .dataframe tbody tr th:only-of-type {\n",
       "        vertical-align: middle;\n",
       "    }\n",
       "\n",
       "    .dataframe tbody tr th {\n",
       "        vertical-align: top;\n",
       "    }\n",
       "\n",
       "    .dataframe thead th {\n",
       "        text-align: right;\n",
       "    }\n",
       "</style>\n",
       "<table border=\"1\" class=\"dataframe\">\n",
       "  <thead>\n",
       "    <tr style=\"text-align: right;\">\n",
       "      <th></th>\n",
       "      <th>activity_id</th>\n",
       "      <th>assay_chembl_id</th>\n",
       "      <th>assay_description</th>\n",
       "      <th>assay_type</th>\n",
       "      <th>molecule_chembl_id</th>\n",
       "      <th>relation</th>\n",
       "      <th>standard_units</th>\n",
       "      <th>standard_value</th>\n",
       "      <th>target_chembl_id</th>\n",
       "      <th>target_organism</th>\n",
       "      <th>type</th>\n",
       "      <th>units</th>\n",
       "      <th>value</th>\n",
       "    </tr>\n",
       "  </thead>\n",
       "  <tbody>\n",
       "    <tr>\n",
       "      <th>0</th>\n",
       "      <td>2114124</td>\n",
       "      <td>CHEMBL935260</td>\n",
       "      <td>Inhibition of PAK1</td>\n",
       "      <td>B</td>\n",
       "      <td>CHEMBL271139</td>\n",
       "      <td>=</td>\n",
       "      <td>nM</td>\n",
       "      <td>18000.0</td>\n",
       "      <td>CHEMBL4600</td>\n",
       "      <td>Homo sapiens</td>\n",
       "      <td>IC50</td>\n",
       "      <td>uM</td>\n",
       "      <td>18.0</td>\n",
       "    </tr>\n",
       "    <tr>\n",
       "      <th>1</th>\n",
       "      <td>2114125</td>\n",
       "      <td>CHEMBL935260</td>\n",
       "      <td>Inhibition of PAK1</td>\n",
       "      <td>B</td>\n",
       "      <td>CHEMBL259041</td>\n",
       "      <td>=</td>\n",
       "      <td>nM</td>\n",
       "      <td>38000.0</td>\n",
       "      <td>CHEMBL4600</td>\n",
       "      <td>Homo sapiens</td>\n",
       "      <td>IC50</td>\n",
       "      <td>uM</td>\n",
       "      <td>38.0</td>\n",
       "    </tr>\n",
       "    <tr>\n",
       "      <th>2</th>\n",
       "      <td>2114126</td>\n",
       "      <td>CHEMBL935260</td>\n",
       "      <td>Inhibition of PAK1</td>\n",
       "      <td>B</td>\n",
       "      <td>CHEMBL259040</td>\n",
       "      <td>=</td>\n",
       "      <td>nM</td>\n",
       "      <td>31000.0</td>\n",
       "      <td>CHEMBL4600</td>\n",
       "      <td>Homo sapiens</td>\n",
       "      <td>IC50</td>\n",
       "      <td>uM</td>\n",
       "      <td>31.0</td>\n",
       "    </tr>\n",
       "    <tr>\n",
       "      <th>3</th>\n",
       "      <td>2114127</td>\n",
       "      <td>CHEMBL935260</td>\n",
       "      <td>Inhibition of PAK1</td>\n",
       "      <td>B</td>\n",
       "      <td>CHEMBL408244</td>\n",
       "      <td>=</td>\n",
       "      <td>nM</td>\n",
       "      <td>23000.0</td>\n",
       "      <td>CHEMBL4600</td>\n",
       "      <td>Homo sapiens</td>\n",
       "      <td>IC50</td>\n",
       "      <td>uM</td>\n",
       "      <td>23.0</td>\n",
       "    </tr>\n",
       "    <tr>\n",
       "      <th>4</th>\n",
       "      <td>2114128</td>\n",
       "      <td>CHEMBL935260</td>\n",
       "      <td>Inhibition of PAK1</td>\n",
       "      <td>B</td>\n",
       "      <td>CHEMBL407278</td>\n",
       "      <td>=</td>\n",
       "      <td>nM</td>\n",
       "      <td>23000.0</td>\n",
       "      <td>CHEMBL4600</td>\n",
       "      <td>Homo sapiens</td>\n",
       "      <td>IC50</td>\n",
       "      <td>uM</td>\n",
       "      <td>23.0</td>\n",
       "    </tr>\n",
       "  </tbody>\n",
       "</table>\n",
       "</div>"
      ],
      "text/plain": [
       "   activity_id assay_chembl_id   assay_description assay_type  \\\n",
       "0      2114124    CHEMBL935260  Inhibition of PAK1          B   \n",
       "1      2114125    CHEMBL935260  Inhibition of PAK1          B   \n",
       "2      2114126    CHEMBL935260  Inhibition of PAK1          B   \n",
       "3      2114127    CHEMBL935260  Inhibition of PAK1          B   \n",
       "4      2114128    CHEMBL935260  Inhibition of PAK1          B   \n",
       "\n",
       "  molecule_chembl_id relation standard_units standard_value target_chembl_id  \\\n",
       "0       CHEMBL271139        =             nM        18000.0       CHEMBL4600   \n",
       "1       CHEMBL259041        =             nM        38000.0       CHEMBL4600   \n",
       "2       CHEMBL259040        =             nM        31000.0       CHEMBL4600   \n",
       "3       CHEMBL408244        =             nM        23000.0       CHEMBL4600   \n",
       "4       CHEMBL407278        =             nM        23000.0       CHEMBL4600   \n",
       "\n",
       "  target_organism  type units value  \n",
       "0    Homo sapiens  IC50    uM  18.0  \n",
       "1    Homo sapiens  IC50    uM  38.0  \n",
       "2    Homo sapiens  IC50    uM  31.0  \n",
       "3    Homo sapiens  IC50    uM  23.0  \n",
       "4    Homo sapiens  IC50    uM  23.0  "
      ]
     },
     "execution_count": 67,
     "metadata": {},
     "output_type": "execute_result"
    }
   ],
   "source": [
    "bioactivities_df = pd.DataFrame.from_dict(bioactivities)\n",
    "print(f\"DataFrame shape: {bioactivities_df.shape}\")\n",
    "bioactivities_df.head()"
   ]
  },
  {
   "attachments": {},
   "cell_type": "markdown",
   "metadata": {},
   "source": [
    "Note that the first two rows describe the same bioactivity entry; we will remove such artifacts later during the deduplication step. Note also that we have columns for `standard_units`/`units` and `standard_values`/`values`; in the following, we will use the standardized columns (standardization by ChEMBL), and thus, we drop the other two columns.\n",
    "\n",
    "If we used the `units` and `values` columns, we would need to convert all values with many different units to nM:"
   ]
  },
  {
   "cell_type": "code",
   "execution_count": 68,
   "metadata": {},
   "outputs": [
    {
     "data": {
      "text/plain": [
       "array(['uM', 'nM', \"10'-10M\", '10^-10M'], dtype=object)"
      ]
     },
     "execution_count": 68,
     "metadata": {},
     "output_type": "execute_result"
    }
   ],
   "source": [
    "bioactivities_df[\"units\"].unique()"
   ]
  },
  {
   "cell_type": "code",
   "execution_count": 69,
   "metadata": {},
   "outputs": [
    {
     "data": {
      "text/html": [
       "<div>\n",
       "<style scoped>\n",
       "    .dataframe tbody tr th:only-of-type {\n",
       "        vertical-align: middle;\n",
       "    }\n",
       "\n",
       "    .dataframe tbody tr th {\n",
       "        vertical-align: top;\n",
       "    }\n",
       "\n",
       "    .dataframe thead th {\n",
       "        text-align: right;\n",
       "    }\n",
       "</style>\n",
       "<table border=\"1\" class=\"dataframe\">\n",
       "  <thead>\n",
       "    <tr style=\"text-align: right;\">\n",
       "      <th></th>\n",
       "      <th>activity_id</th>\n",
       "      <th>assay_chembl_id</th>\n",
       "      <th>assay_description</th>\n",
       "      <th>assay_type</th>\n",
       "      <th>molecule_chembl_id</th>\n",
       "      <th>relation</th>\n",
       "      <th>standard_units</th>\n",
       "      <th>standard_value</th>\n",
       "      <th>target_chembl_id</th>\n",
       "      <th>target_organism</th>\n",
       "      <th>type</th>\n",
       "    </tr>\n",
       "  </thead>\n",
       "  <tbody>\n",
       "    <tr>\n",
       "      <th>0</th>\n",
       "      <td>2114124</td>\n",
       "      <td>CHEMBL935260</td>\n",
       "      <td>Inhibition of PAK1</td>\n",
       "      <td>B</td>\n",
       "      <td>CHEMBL271139</td>\n",
       "      <td>=</td>\n",
       "      <td>nM</td>\n",
       "      <td>18000.0</td>\n",
       "      <td>CHEMBL4600</td>\n",
       "      <td>Homo sapiens</td>\n",
       "      <td>IC50</td>\n",
       "    </tr>\n",
       "    <tr>\n",
       "      <th>1</th>\n",
       "      <td>2114125</td>\n",
       "      <td>CHEMBL935260</td>\n",
       "      <td>Inhibition of PAK1</td>\n",
       "      <td>B</td>\n",
       "      <td>CHEMBL259041</td>\n",
       "      <td>=</td>\n",
       "      <td>nM</td>\n",
       "      <td>38000.0</td>\n",
       "      <td>CHEMBL4600</td>\n",
       "      <td>Homo sapiens</td>\n",
       "      <td>IC50</td>\n",
       "    </tr>\n",
       "    <tr>\n",
       "      <th>2</th>\n",
       "      <td>2114126</td>\n",
       "      <td>CHEMBL935260</td>\n",
       "      <td>Inhibition of PAK1</td>\n",
       "      <td>B</td>\n",
       "      <td>CHEMBL259040</td>\n",
       "      <td>=</td>\n",
       "      <td>nM</td>\n",
       "      <td>31000.0</td>\n",
       "      <td>CHEMBL4600</td>\n",
       "      <td>Homo sapiens</td>\n",
       "      <td>IC50</td>\n",
       "    </tr>\n",
       "    <tr>\n",
       "      <th>3</th>\n",
       "      <td>2114127</td>\n",
       "      <td>CHEMBL935260</td>\n",
       "      <td>Inhibition of PAK1</td>\n",
       "      <td>B</td>\n",
       "      <td>CHEMBL408244</td>\n",
       "      <td>=</td>\n",
       "      <td>nM</td>\n",
       "      <td>23000.0</td>\n",
       "      <td>CHEMBL4600</td>\n",
       "      <td>Homo sapiens</td>\n",
       "      <td>IC50</td>\n",
       "    </tr>\n",
       "    <tr>\n",
       "      <th>4</th>\n",
       "      <td>2114128</td>\n",
       "      <td>CHEMBL935260</td>\n",
       "      <td>Inhibition of PAK1</td>\n",
       "      <td>B</td>\n",
       "      <td>CHEMBL407278</td>\n",
       "      <td>=</td>\n",
       "      <td>nM</td>\n",
       "      <td>23000.0</td>\n",
       "      <td>CHEMBL4600</td>\n",
       "      <td>Homo sapiens</td>\n",
       "      <td>IC50</td>\n",
       "    </tr>\n",
       "  </tbody>\n",
       "</table>\n",
       "</div>"
      ],
      "text/plain": [
       "   activity_id assay_chembl_id   assay_description assay_type  \\\n",
       "0      2114124    CHEMBL935260  Inhibition of PAK1          B   \n",
       "1      2114125    CHEMBL935260  Inhibition of PAK1          B   \n",
       "2      2114126    CHEMBL935260  Inhibition of PAK1          B   \n",
       "3      2114127    CHEMBL935260  Inhibition of PAK1          B   \n",
       "4      2114128    CHEMBL935260  Inhibition of PAK1          B   \n",
       "\n",
       "  molecule_chembl_id relation standard_units standard_value target_chembl_id  \\\n",
       "0       CHEMBL271139        =             nM        18000.0       CHEMBL4600   \n",
       "1       CHEMBL259041        =             nM        38000.0       CHEMBL4600   \n",
       "2       CHEMBL259040        =             nM        31000.0       CHEMBL4600   \n",
       "3       CHEMBL408244        =             nM        23000.0       CHEMBL4600   \n",
       "4       CHEMBL407278        =             nM        23000.0       CHEMBL4600   \n",
       "\n",
       "  target_organism  type  \n",
       "0    Homo sapiens  IC50  \n",
       "1    Homo sapiens  IC50  \n",
       "2    Homo sapiens  IC50  \n",
       "3    Homo sapiens  IC50  \n",
       "4    Homo sapiens  IC50  "
      ]
     },
     "execution_count": 69,
     "metadata": {},
     "output_type": "execute_result"
    }
   ],
   "source": [
    "bioactivities_df.drop([\"units\", \"value\"], axis=1, inplace=True)\n",
    "bioactivities_df.head()"
   ]
  },
  {
   "attachments": {},
   "cell_type": "markdown",
   "metadata": {},
   "source": [
    "#### Preprocess and filter bioactivity data\n",
    "\n",
    "1. Convert `standard_value`'s datatype from `object` to `float`\n",
    "2. Delete entries with missing values\n",
    "3. Keep only entries with `standard_unit == nM`\n",
    "4. Delete duplicate molecules\n",
    "5. Reset `DataFrame` index\n",
    "6. Rename columns"
   ]
  },
  {
   "attachments": {},
   "cell_type": "markdown",
   "metadata": {},
   "source": [
    "**1. Convert datatype of \"standard_value\" from \"object\" to \"float\"**\n",
    "\n",
    "The field `standard_value` holds standardized (here IC50) values. In order to make these values usable in calculations later on, convert values to floats."
   ]
  },
  {
   "cell_type": "code",
   "execution_count": 70,
   "metadata": {},
   "outputs": [
    {
     "data": {
      "text/plain": [
       "activity_id            int64\n",
       "assay_chembl_id       object\n",
       "assay_description     object\n",
       "assay_type            object\n",
       "molecule_chembl_id    object\n",
       "relation              object\n",
       "standard_units        object\n",
       "standard_value        object\n",
       "target_chembl_id      object\n",
       "target_organism       object\n",
       "type                  object\n",
       "dtype: object"
      ]
     },
     "execution_count": 70,
     "metadata": {},
     "output_type": "execute_result"
    }
   ],
   "source": [
    "bioactivities_df.dtypes"
   ]
  },
  {
   "cell_type": "code",
   "execution_count": 71,
   "metadata": {},
   "outputs": [
    {
     "data": {
      "text/plain": [
       "activity_id             int64\n",
       "assay_chembl_id        object\n",
       "assay_description      object\n",
       "assay_type             object\n",
       "molecule_chembl_id     object\n",
       "relation               object\n",
       "standard_units         object\n",
       "standard_value        float64\n",
       "target_chembl_id       object\n",
       "target_organism        object\n",
       "type                   object\n",
       "dtype: object"
      ]
     },
     "execution_count": 71,
     "metadata": {},
     "output_type": "execute_result"
    }
   ],
   "source": [
    "bioactivities_df = bioactivities_df.astype({\"standard_value\": \"float64\"})\n",
    "bioactivities_df.dtypes"
   ]
  },
  {
   "attachments": {},
   "cell_type": "markdown",
   "metadata": {},
   "source": [
    "**2. Delete entries with missing values**\n",
    "\n",
    "Use the parameter `inplace=True` to drop values in the current `DataFrame` directly."
   ]
  },
  {
   "cell_type": "code",
   "execution_count": 72,
   "metadata": {},
   "outputs": [
    {
     "name": "stdout",
     "output_type": "stream",
     "text": [
      "DataFrame shape: (286, 11)\n"
     ]
    }
   ],
   "source": [
    "bioactivities_df.dropna(axis=0, how=\"any\", inplace=True)\n",
    "print(f\"DataFrame shape: {bioactivities_df.shape}\")"
   ]
  },
  {
   "attachments": {},
   "cell_type": "markdown",
   "metadata": {},
   "source": [
    "**3. Keep only entries with \"standard_unit == nM\"** \n",
    "\n",
    "We only want to keep bioactivity entries in `nM`, thus we remove all entries with other units."
   ]
  },
  {
   "cell_type": "code",
   "execution_count": 73,
   "metadata": {},
   "outputs": [
    {
     "name": "stdout",
     "output_type": "stream",
     "text": [
      "Units in downloaded data: ['nM']\n",
      "Number of non-nM entries:    0\n"
     ]
    }
   ],
   "source": [
    "print(f\"Units in downloaded data: {bioactivities_df['standard_units'].unique()}\")\n",
    "print(\n",
    "    f\"Number of non-nM entries:\\\n",
    "    {bioactivities_df[bioactivities_df['standard_units'] != 'nM'].shape[0]}\"\n",
    ")"
   ]
  },
  {
   "cell_type": "code",
   "execution_count": 74,
   "metadata": {},
   "outputs": [
    {
     "name": "stdout",
     "output_type": "stream",
     "text": [
      "Units after filtering: ['nM']\n"
     ]
    }
   ],
   "source": [
    "bioactivities_df = bioactivities_df[bioactivities_df[\"standard_units\"] == \"nM\"]\n",
    "print(f\"Units after filtering: {bioactivities_df['standard_units'].unique()}\")"
   ]
  },
  {
   "cell_type": "code",
   "execution_count": 75,
   "metadata": {},
   "outputs": [
    {
     "name": "stdout",
     "output_type": "stream",
     "text": [
      "DataFrame shape: (286, 11)\n"
     ]
    }
   ],
   "source": [
    "print(f\"DataFrame shape: {bioactivities_df.shape}\")"
   ]
  },
  {
   "attachments": {},
   "cell_type": "markdown",
   "metadata": {},
   "source": [
    "**4. Delete duplicate molecules**\n",
    "\n",
    "Sometimes the same molecule (`molecule_chembl_id`) has been tested more than once, in this case, we only keep the first one.\n",
    "\n",
    "Note other choices could be to keep the one with the best value or a mean value of all assay results for the respective compound."
   ]
  },
  {
   "cell_type": "code",
   "execution_count": 76,
   "metadata": {},
   "outputs": [
    {
     "name": "stdout",
     "output_type": "stream",
     "text": [
      "DataFrame shape: (237, 11)\n"
     ]
    }
   ],
   "source": [
    "bioactivities_df.drop_duplicates(\"molecule_chembl_id\", keep=\"first\", inplace=True)\n",
    "print(f\"DataFrame shape: {bioactivities_df.shape}\")"
   ]
  },
  {
   "attachments": {},
   "cell_type": "markdown",
   "metadata": {},
   "source": [
    "**5. Reset \"DataFrame\" index**\n",
    "\n",
    "Since we deleted some rows, but we want to iterate over the index later, we reset the index to be continuous."
   ]
  },
  {
   "cell_type": "code",
   "execution_count": 77,
   "metadata": {},
   "outputs": [
    {
     "data": {
      "text/html": [
       "<div>\n",
       "<style scoped>\n",
       "    .dataframe tbody tr th:only-of-type {\n",
       "        vertical-align: middle;\n",
       "    }\n",
       "\n",
       "    .dataframe tbody tr th {\n",
       "        vertical-align: top;\n",
       "    }\n",
       "\n",
       "    .dataframe thead th {\n",
       "        text-align: right;\n",
       "    }\n",
       "</style>\n",
       "<table border=\"1\" class=\"dataframe\">\n",
       "  <thead>\n",
       "    <tr style=\"text-align: right;\">\n",
       "      <th></th>\n",
       "      <th>activity_id</th>\n",
       "      <th>assay_chembl_id</th>\n",
       "      <th>assay_description</th>\n",
       "      <th>assay_type</th>\n",
       "      <th>molecule_chembl_id</th>\n",
       "      <th>relation</th>\n",
       "      <th>standard_units</th>\n",
       "      <th>standard_value</th>\n",
       "      <th>target_chembl_id</th>\n",
       "      <th>target_organism</th>\n",
       "      <th>type</th>\n",
       "    </tr>\n",
       "  </thead>\n",
       "  <tbody>\n",
       "    <tr>\n",
       "      <th>0</th>\n",
       "      <td>2114124</td>\n",
       "      <td>CHEMBL935260</td>\n",
       "      <td>Inhibition of PAK1</td>\n",
       "      <td>B</td>\n",
       "      <td>CHEMBL271139</td>\n",
       "      <td>=</td>\n",
       "      <td>nM</td>\n",
       "      <td>18000.0</td>\n",
       "      <td>CHEMBL4600</td>\n",
       "      <td>Homo sapiens</td>\n",
       "      <td>IC50</td>\n",
       "    </tr>\n",
       "    <tr>\n",
       "      <th>1</th>\n",
       "      <td>2114125</td>\n",
       "      <td>CHEMBL935260</td>\n",
       "      <td>Inhibition of PAK1</td>\n",
       "      <td>B</td>\n",
       "      <td>CHEMBL259041</td>\n",
       "      <td>=</td>\n",
       "      <td>nM</td>\n",
       "      <td>38000.0</td>\n",
       "      <td>CHEMBL4600</td>\n",
       "      <td>Homo sapiens</td>\n",
       "      <td>IC50</td>\n",
       "    </tr>\n",
       "    <tr>\n",
       "      <th>2</th>\n",
       "      <td>2114126</td>\n",
       "      <td>CHEMBL935260</td>\n",
       "      <td>Inhibition of PAK1</td>\n",
       "      <td>B</td>\n",
       "      <td>CHEMBL259040</td>\n",
       "      <td>=</td>\n",
       "      <td>nM</td>\n",
       "      <td>31000.0</td>\n",
       "      <td>CHEMBL4600</td>\n",
       "      <td>Homo sapiens</td>\n",
       "      <td>IC50</td>\n",
       "    </tr>\n",
       "    <tr>\n",
       "      <th>3</th>\n",
       "      <td>2114127</td>\n",
       "      <td>CHEMBL935260</td>\n",
       "      <td>Inhibition of PAK1</td>\n",
       "      <td>B</td>\n",
       "      <td>CHEMBL408244</td>\n",
       "      <td>=</td>\n",
       "      <td>nM</td>\n",
       "      <td>23000.0</td>\n",
       "      <td>CHEMBL4600</td>\n",
       "      <td>Homo sapiens</td>\n",
       "      <td>IC50</td>\n",
       "    </tr>\n",
       "    <tr>\n",
       "      <th>4</th>\n",
       "      <td>2114128</td>\n",
       "      <td>CHEMBL935260</td>\n",
       "      <td>Inhibition of PAK1</td>\n",
       "      <td>B</td>\n",
       "      <td>CHEMBL407278</td>\n",
       "      <td>=</td>\n",
       "      <td>nM</td>\n",
       "      <td>23000.0</td>\n",
       "      <td>CHEMBL4600</td>\n",
       "      <td>Homo sapiens</td>\n",
       "      <td>IC50</td>\n",
       "    </tr>\n",
       "  </tbody>\n",
       "</table>\n",
       "</div>"
      ],
      "text/plain": [
       "   activity_id assay_chembl_id   assay_description assay_type  \\\n",
       "0      2114124    CHEMBL935260  Inhibition of PAK1          B   \n",
       "1      2114125    CHEMBL935260  Inhibition of PAK1          B   \n",
       "2      2114126    CHEMBL935260  Inhibition of PAK1          B   \n",
       "3      2114127    CHEMBL935260  Inhibition of PAK1          B   \n",
       "4      2114128    CHEMBL935260  Inhibition of PAK1          B   \n",
       "\n",
       "  molecule_chembl_id relation standard_units  standard_value target_chembl_id  \\\n",
       "0       CHEMBL271139        =             nM         18000.0       CHEMBL4600   \n",
       "1       CHEMBL259041        =             nM         38000.0       CHEMBL4600   \n",
       "2       CHEMBL259040        =             nM         31000.0       CHEMBL4600   \n",
       "3       CHEMBL408244        =             nM         23000.0       CHEMBL4600   \n",
       "4       CHEMBL407278        =             nM         23000.0       CHEMBL4600   \n",
       "\n",
       "  target_organism  type  \n",
       "0    Homo sapiens  IC50  \n",
       "1    Homo sapiens  IC50  \n",
       "2    Homo sapiens  IC50  \n",
       "3    Homo sapiens  IC50  \n",
       "4    Homo sapiens  IC50  "
      ]
     },
     "execution_count": 77,
     "metadata": {},
     "output_type": "execute_result"
    }
   ],
   "source": [
    "bioactivities_df.reset_index(drop=True, inplace=True)\n",
    "bioactivities_df.head()"
   ]
  },
  {
   "attachments": {},
   "cell_type": "markdown",
   "metadata": {},
   "source": [
    "**6. Rename columns**"
   ]
  },
  {
   "cell_type": "code",
   "execution_count": 78,
   "metadata": {},
   "outputs": [
    {
     "data": {
      "text/html": [
       "<div>\n",
       "<style scoped>\n",
       "    .dataframe tbody tr th:only-of-type {\n",
       "        vertical-align: middle;\n",
       "    }\n",
       "\n",
       "    .dataframe tbody tr th {\n",
       "        vertical-align: top;\n",
       "    }\n",
       "\n",
       "    .dataframe thead th {\n",
       "        text-align: right;\n",
       "    }\n",
       "</style>\n",
       "<table border=\"1\" class=\"dataframe\">\n",
       "  <thead>\n",
       "    <tr style=\"text-align: right;\">\n",
       "      <th></th>\n",
       "      <th>activity_id</th>\n",
       "      <th>assay_chembl_id</th>\n",
       "      <th>assay_description</th>\n",
       "      <th>assay_type</th>\n",
       "      <th>molecule_chembl_id</th>\n",
       "      <th>relation</th>\n",
       "      <th>units</th>\n",
       "      <th>IC50</th>\n",
       "      <th>target_chembl_id</th>\n",
       "      <th>target_organism</th>\n",
       "      <th>type</th>\n",
       "    </tr>\n",
       "  </thead>\n",
       "  <tbody>\n",
       "    <tr>\n",
       "      <th>0</th>\n",
       "      <td>2114124</td>\n",
       "      <td>CHEMBL935260</td>\n",
       "      <td>Inhibition of PAK1</td>\n",
       "      <td>B</td>\n",
       "      <td>CHEMBL271139</td>\n",
       "      <td>=</td>\n",
       "      <td>nM</td>\n",
       "      <td>18000.0</td>\n",
       "      <td>CHEMBL4600</td>\n",
       "      <td>Homo sapiens</td>\n",
       "      <td>IC50</td>\n",
       "    </tr>\n",
       "    <tr>\n",
       "      <th>1</th>\n",
       "      <td>2114125</td>\n",
       "      <td>CHEMBL935260</td>\n",
       "      <td>Inhibition of PAK1</td>\n",
       "      <td>B</td>\n",
       "      <td>CHEMBL259041</td>\n",
       "      <td>=</td>\n",
       "      <td>nM</td>\n",
       "      <td>38000.0</td>\n",
       "      <td>CHEMBL4600</td>\n",
       "      <td>Homo sapiens</td>\n",
       "      <td>IC50</td>\n",
       "    </tr>\n",
       "    <tr>\n",
       "      <th>2</th>\n",
       "      <td>2114126</td>\n",
       "      <td>CHEMBL935260</td>\n",
       "      <td>Inhibition of PAK1</td>\n",
       "      <td>B</td>\n",
       "      <td>CHEMBL259040</td>\n",
       "      <td>=</td>\n",
       "      <td>nM</td>\n",
       "      <td>31000.0</td>\n",
       "      <td>CHEMBL4600</td>\n",
       "      <td>Homo sapiens</td>\n",
       "      <td>IC50</td>\n",
       "    </tr>\n",
       "    <tr>\n",
       "      <th>3</th>\n",
       "      <td>2114127</td>\n",
       "      <td>CHEMBL935260</td>\n",
       "      <td>Inhibition of PAK1</td>\n",
       "      <td>B</td>\n",
       "      <td>CHEMBL408244</td>\n",
       "      <td>=</td>\n",
       "      <td>nM</td>\n",
       "      <td>23000.0</td>\n",
       "      <td>CHEMBL4600</td>\n",
       "      <td>Homo sapiens</td>\n",
       "      <td>IC50</td>\n",
       "    </tr>\n",
       "    <tr>\n",
       "      <th>4</th>\n",
       "      <td>2114128</td>\n",
       "      <td>CHEMBL935260</td>\n",
       "      <td>Inhibition of PAK1</td>\n",
       "      <td>B</td>\n",
       "      <td>CHEMBL407278</td>\n",
       "      <td>=</td>\n",
       "      <td>nM</td>\n",
       "      <td>23000.0</td>\n",
       "      <td>CHEMBL4600</td>\n",
       "      <td>Homo sapiens</td>\n",
       "      <td>IC50</td>\n",
       "    </tr>\n",
       "  </tbody>\n",
       "</table>\n",
       "</div>"
      ],
      "text/plain": [
       "   activity_id assay_chembl_id   assay_description assay_type  \\\n",
       "0      2114124    CHEMBL935260  Inhibition of PAK1          B   \n",
       "1      2114125    CHEMBL935260  Inhibition of PAK1          B   \n",
       "2      2114126    CHEMBL935260  Inhibition of PAK1          B   \n",
       "3      2114127    CHEMBL935260  Inhibition of PAK1          B   \n",
       "4      2114128    CHEMBL935260  Inhibition of PAK1          B   \n",
       "\n",
       "  molecule_chembl_id relation units     IC50 target_chembl_id target_organism  \\\n",
       "0       CHEMBL271139        =    nM  18000.0       CHEMBL4600    Homo sapiens   \n",
       "1       CHEMBL259041        =    nM  38000.0       CHEMBL4600    Homo sapiens   \n",
       "2       CHEMBL259040        =    nM  31000.0       CHEMBL4600    Homo sapiens   \n",
       "3       CHEMBL408244        =    nM  23000.0       CHEMBL4600    Homo sapiens   \n",
       "4       CHEMBL407278        =    nM  23000.0       CHEMBL4600    Homo sapiens   \n",
       "\n",
       "   type  \n",
       "0  IC50  \n",
       "1  IC50  \n",
       "2  IC50  \n",
       "3  IC50  \n",
       "4  IC50  "
      ]
     },
     "execution_count": 78,
     "metadata": {},
     "output_type": "execute_result"
    }
   ],
   "source": [
    "bioactivities_df.rename(\n",
    "    columns={\"standard_value\": \"IC50\", \"standard_units\": \"units\"}, inplace=True\n",
    ")\n",
    "bioactivities_df.head()"
   ]
  },
  {
   "cell_type": "code",
   "execution_count": 79,
   "metadata": {},
   "outputs": [
    {
     "name": "stdout",
     "output_type": "stream",
     "text": [
      "DataFrame shape: (237, 11)\n"
     ]
    }
   ],
   "source": [
    "print(f\"DataFrame shape: {bioactivities_df.shape}\")"
   ]
  },
  {
   "attachments": {},
   "cell_type": "markdown",
   "metadata": {},
   "source": [
    "We now have a set of **237** molecule ids with respective IC50 values for our target kinase."
   ]
  },
  {
   "attachments": {},
   "cell_type": "markdown",
   "metadata": {},
   "source": [
    "### Get compound data\n",
    "\n",
    "We have a `DataFrame` containing all molecules tested against EGFR (with the respective measured bioactivity). \n",
    "\n",
    "Now, we want to get the molecular structures of the molecules that are linked to respective bioactivity ChEMBL IDs. "
   ]
  },
  {
   "attachments": {},
   "cell_type": "markdown",
   "metadata": {},
   "source": [
    "#### Fetch compound data from ChEMBL\n",
    "\n",
    "Let's have a look at the compounds from ChEMBL which we have defined bioactivity data for: We fetch compound ChEMBL IDs and structures for the compounds linked to our filtered bioactivity data."
   ]
  },
  {
   "cell_type": "code",
   "execution_count": 80,
   "metadata": {},
   "outputs": [],
   "source": [
    "compounds_provider = compounds_api.filter(\n",
    "    molecule_chembl_id__in=list(bioactivities_df[\"molecule_chembl_id\"])\n",
    ").only(\"molecule_chembl_id\", \"molecule_structures\")"
   ]
  },
  {
   "attachments": {},
   "cell_type": "markdown",
   "metadata": {},
   "source": [
    "#### Download compound data from ChEMBL\n",
    "\n",
    "Again, we want to export the `QuerySet` object into a `pandas.DataFrame`. Given the data volume, **this can take some time.** For that reason, we will first obtain the list of records through `tqdm`, so we get a nice progress bar and some ETAs. We can then pass the list of compounds to the DataFrame."
   ]
  },
  {
   "cell_type": "code",
   "execution_count": 81,
   "metadata": {},
   "outputs": [
    {
     "data": {
      "application/vnd.jupyter.widget-view+json": {
       "model_id": "85d3b0aecf83455e8f63a6fc4095f8b5",
       "version_major": 2,
       "version_minor": 0
      },
      "text/plain": [
       "  0%|          | 0/237 [00:00<?, ?it/s]"
      ]
     },
     "metadata": {},
     "output_type": "display_data"
    }
   ],
   "source": [
    "compounds = list(tqdm(compounds_provider))"
   ]
  },
  {
   "cell_type": "code",
   "execution_count": 82,
   "metadata": {},
   "outputs": [
    {
     "name": "stdout",
     "output_type": "stream",
     "text": [
      "DataFrame shape: (237, 2)\n"
     ]
    }
   ],
   "source": [
    "compounds_df = pd.DataFrame.from_records(\n",
    "    compounds,\n",
    ")\n",
    "print(f\"DataFrame shape: {compounds_df.shape}\")"
   ]
  },
  {
   "cell_type": "code",
   "execution_count": 83,
   "metadata": {},
   "outputs": [
    {
     "data": {
      "text/html": [
       "<div>\n",
       "<style scoped>\n",
       "    .dataframe tbody tr th:only-of-type {\n",
       "        vertical-align: middle;\n",
       "    }\n",
       "\n",
       "    .dataframe tbody tr th {\n",
       "        vertical-align: top;\n",
       "    }\n",
       "\n",
       "    .dataframe thead th {\n",
       "        text-align: right;\n",
       "    }\n",
       "</style>\n",
       "<table border=\"1\" class=\"dataframe\">\n",
       "  <thead>\n",
       "    <tr style=\"text-align: right;\">\n",
       "      <th></th>\n",
       "      <th>molecule_chembl_id</th>\n",
       "      <th>molecule_structures</th>\n",
       "    </tr>\n",
       "  </thead>\n",
       "  <tbody>\n",
       "    <tr>\n",
       "      <th>0</th>\n",
       "      <td>CHEMBL469</td>\n",
       "      <td>{'canonical_smiles': 'O=C(c1ccccc1)c1ccc2n1CCC...</td>\n",
       "    </tr>\n",
       "    <tr>\n",
       "      <th>1</th>\n",
       "      <td>CHEMBL140</td>\n",
       "      <td>{'canonical_smiles': 'COc1cc(/C=C/C(=O)CC(=O)/...</td>\n",
       "    </tr>\n",
       "    <tr>\n",
       "      <th>2</th>\n",
       "      <td>CHEMBL165</td>\n",
       "      <td>{'canonical_smiles': 'Oc1ccc(/C=C/c2cc(O)cc(O)...</td>\n",
       "    </tr>\n",
       "    <tr>\n",
       "      <th>3</th>\n",
       "      <td>CHEMBL388978</td>\n",
       "      <td>{'canonical_smiles': 'CN[C@@H]1C[C@H]2O[C@@](C...</td>\n",
       "    </tr>\n",
       "    <tr>\n",
       "      <th>4</th>\n",
       "      <td>CHEMBL259040</td>\n",
       "      <td>{'canonical_smiles': 'c1nc2cnc(NC3CCCCC3)nc2[n...</td>\n",
       "    </tr>\n",
       "  </tbody>\n",
       "</table>\n",
       "</div>"
      ],
      "text/plain": [
       "  molecule_chembl_id                                molecule_structures\n",
       "0          CHEMBL469  {'canonical_smiles': 'O=C(c1ccccc1)c1ccc2n1CCC...\n",
       "1          CHEMBL140  {'canonical_smiles': 'COc1cc(/C=C/C(=O)CC(=O)/...\n",
       "2          CHEMBL165  {'canonical_smiles': 'Oc1ccc(/C=C/c2cc(O)cc(O)...\n",
       "3       CHEMBL388978  {'canonical_smiles': 'CN[C@@H]1C[C@H]2O[C@@](C...\n",
       "4       CHEMBL259040  {'canonical_smiles': 'c1nc2cnc(NC3CCCCC3)nc2[n..."
      ]
     },
     "execution_count": 83,
     "metadata": {},
     "output_type": "execute_result"
    }
   ],
   "source": [
    "compounds_df.head()"
   ]
  },
  {
   "attachments": {},
   "cell_type": "markdown",
   "metadata": {},
   "source": [
    "#### Preprocess and filter compound data\n",
    "\n",
    "1. Remove entries with missing entries\n",
    "2. Delete duplicate molecules (by molecule_chembl_id)\n",
    "3. Get molecules with canonical SMILES"
   ]
  },
  {
   "attachments": {},
   "cell_type": "markdown",
   "metadata": {},
   "source": [
    "**1. Remove entries with missing molecule structure entry**"
   ]
  },
  {
   "cell_type": "code",
   "execution_count": 84,
   "metadata": {},
   "outputs": [
    {
     "name": "stdout",
     "output_type": "stream",
     "text": [
      "DataFrame shape: (237, 2)\n"
     ]
    }
   ],
   "source": [
    "compounds_df.dropna(axis=0, how=\"any\", inplace=True)\n",
    "print(f\"DataFrame shape: {compounds_df.shape}\")"
   ]
  },
  {
   "attachments": {},
   "cell_type": "markdown",
   "metadata": {},
   "source": [
    "**2. Delete duplicate molecules**"
   ]
  },
  {
   "cell_type": "code",
   "execution_count": 85,
   "metadata": {},
   "outputs": [
    {
     "name": "stdout",
     "output_type": "stream",
     "text": [
      "DataFrame shape: (237, 2)\n"
     ]
    }
   ],
   "source": [
    "compounds_df.drop_duplicates(\"molecule_chembl_id\", keep=\"first\", inplace=True)\n",
    "print(f\"DataFrame shape: {compounds_df.shape}\")"
   ]
  },
  {
   "attachments": {},
   "cell_type": "markdown",
   "metadata": {},
   "source": [
    "**3. Get molecules with canonical SMILES**\n",
    "\n",
    "So far, we have multiple different molecular structure representations. We only want to keep the canonical SMILES."
   ]
  },
  {
   "cell_type": "code",
   "execution_count": 86,
   "metadata": {},
   "outputs": [
    {
     "data": {
      "text/plain": [
       "dict_keys(['canonical_smiles', 'molfile', 'standard_inchi', 'standard_inchi_key'])"
      ]
     },
     "execution_count": 86,
     "metadata": {},
     "output_type": "execute_result"
    }
   ],
   "source": [
    "compounds_df.iloc[0].molecule_structures.keys()"
   ]
  },
  {
   "cell_type": "code",
   "execution_count": 87,
   "metadata": {},
   "outputs": [
    {
     "name": "stdout",
     "output_type": "stream",
     "text": [
      "DataFrame shape: (237, 2)\n"
     ]
    }
   ],
   "source": [
    "canonical_smiles = []\n",
    "\n",
    "for i, compounds in compounds_df.iterrows():\n",
    "    try:\n",
    "        canonical_smiles.append(compounds[\"molecule_structures\"][\"canonical_smiles\"])\n",
    "    except KeyError:\n",
    "        canonical_smiles.append(None)\n",
    "\n",
    "compounds_df[\"smiles\"] = canonical_smiles\n",
    "compounds_df.drop(\"molecule_structures\", axis=1, inplace=True)\n",
    "print(f\"DataFrame shape: {compounds_df.shape}\")"
   ]
  },
  {
   "attachments": {},
   "cell_type": "markdown",
   "metadata": {},
   "source": [
    "Sanity check: Remove all molecules without a canonical SMILES string."
   ]
  },
  {
   "cell_type": "code",
   "execution_count": 88,
   "metadata": {},
   "outputs": [
    {
     "name": "stdout",
     "output_type": "stream",
     "text": [
      "DataFrame shape: (237, 2)\n"
     ]
    }
   ],
   "source": [
    "compounds_df.dropna(axis=0, how=\"any\", inplace=True)\n",
    "print(f\"DataFrame shape: {compounds_df.shape}\")"
   ]
  },
  {
   "attachments": {},
   "cell_type": "markdown",
   "metadata": {},
   "source": [
    "### Output (bioactivity-compound) data\n",
    "**Summary of compound and bioactivity data**"
   ]
  },
  {
   "cell_type": "code",
   "execution_count": 89,
   "metadata": {},
   "outputs": [
    {
     "name": "stdout",
     "output_type": "stream",
     "text": [
      "Bioactivities filtered: 237\n"
     ]
    },
    {
     "data": {
      "text/plain": [
       "Index(['activity_id', 'assay_chembl_id', 'assay_description', 'assay_type',\n",
       "       'molecule_chembl_id', 'relation', 'units', 'IC50', 'target_chembl_id',\n",
       "       'target_organism', 'type'],\n",
       "      dtype='object')"
      ]
     },
     "execution_count": 89,
     "metadata": {},
     "output_type": "execute_result"
    }
   ],
   "source": [
    "print(f\"Bioactivities filtered: {bioactivities_df.shape[0]}\")\n",
    "bioactivities_df.columns"
   ]
  },
  {
   "cell_type": "code",
   "execution_count": 90,
   "metadata": {},
   "outputs": [
    {
     "name": "stdout",
     "output_type": "stream",
     "text": [
      "Compounds filtered: 237\n"
     ]
    },
    {
     "data": {
      "text/plain": [
       "Index(['molecule_chembl_id', 'smiles'], dtype='object')"
      ]
     },
     "execution_count": 90,
     "metadata": {},
     "output_type": "execute_result"
    }
   ],
   "source": [
    "print(f\"Compounds filtered: {compounds_df.shape[0]}\")\n",
    "compounds_df.columns"
   ]
  },
  {
   "attachments": {},
   "cell_type": "markdown",
   "metadata": {},
   "source": [
    "#### Merge both datasets\n",
    "\n",
    "Merge values of interest from `bioactivities_df` and `compounds_df` in an `output_df` based on the compounds' ChEMBL IDs (`molecule_chembl_id`), keeping the following columns:\n",
    "\n",
    "* ChEMBL IDs: `molecule_chembl_id`\n",
    "* SMILES: `smiles`\n",
    "* units: `units`\n",
    "* IC50: `IC50`"
   ]
  },
  {
   "cell_type": "code",
   "execution_count": 91,
   "metadata": {},
   "outputs": [
    {
     "name": "stdout",
     "output_type": "stream",
     "text": [
      "Dataset with 237 entries.\n"
     ]
    }
   ],
   "source": [
    "# Merge DataFrames\n",
    "output_df = pd.merge(\n",
    "    bioactivities_df[[\"molecule_chembl_id\", \"IC50\", \"units\"]],\n",
    "    compounds_df,\n",
    "    on=\"molecule_chembl_id\",\n",
    ")\n",
    "\n",
    "# Reset row indices\n",
    "output_df.reset_index(drop=True, inplace=True)\n",
    "\n",
    "print(f\"Dataset with {output_df.shape[0]} entries.\")"
   ]
  },
  {
   "cell_type": "code",
   "execution_count": 92,
   "metadata": {},
   "outputs": [
    {
     "data": {
      "text/plain": [
       "molecule_chembl_id     object\n",
       "IC50                  float64\n",
       "units                  object\n",
       "smiles                 object\n",
       "dtype: object"
      ]
     },
     "execution_count": 92,
     "metadata": {},
     "output_type": "execute_result"
    }
   ],
   "source": [
    "output_df.dtypes"
   ]
  },
  {
   "cell_type": "code",
   "execution_count": 93,
   "metadata": {},
   "outputs": [
    {
     "data": {
      "text/html": [
       "<div>\n",
       "<style scoped>\n",
       "    .dataframe tbody tr th:only-of-type {\n",
       "        vertical-align: middle;\n",
       "    }\n",
       "\n",
       "    .dataframe tbody tr th {\n",
       "        vertical-align: top;\n",
       "    }\n",
       "\n",
       "    .dataframe thead th {\n",
       "        text-align: right;\n",
       "    }\n",
       "</style>\n",
       "<table border=\"1\" class=\"dataframe\">\n",
       "  <thead>\n",
       "    <tr style=\"text-align: right;\">\n",
       "      <th></th>\n",
       "      <th>molecule_chembl_id</th>\n",
       "      <th>IC50</th>\n",
       "      <th>units</th>\n",
       "      <th>smiles</th>\n",
       "    </tr>\n",
       "  </thead>\n",
       "  <tbody>\n",
       "    <tr>\n",
       "      <th>0</th>\n",
       "      <td>CHEMBL271139</td>\n",
       "      <td>18000.0</td>\n",
       "      <td>nM</td>\n",
       "      <td>c1nc(NC2CCCC2)c2nc[nH]c2n1</td>\n",
       "    </tr>\n",
       "    <tr>\n",
       "      <th>1</th>\n",
       "      <td>CHEMBL259041</td>\n",
       "      <td>38000.0</td>\n",
       "      <td>nM</td>\n",
       "      <td>CCCCCSc1ncnc2[nH]cnc12</td>\n",
       "    </tr>\n",
       "    <tr>\n",
       "      <th>2</th>\n",
       "      <td>CHEMBL259040</td>\n",
       "      <td>31000.0</td>\n",
       "      <td>nM</td>\n",
       "      <td>c1nc2cnc(NC3CCCCC3)nc2[nH]1</td>\n",
       "    </tr>\n",
       "    <tr>\n",
       "      <th>3</th>\n",
       "      <td>CHEMBL408244</td>\n",
       "      <td>23000.0</td>\n",
       "      <td>nM</td>\n",
       "      <td>CC(Sc1ncnc2[nH]cnc12)c1ccccc1Cl</td>\n",
       "    </tr>\n",
       "    <tr>\n",
       "      <th>4</th>\n",
       "      <td>CHEMBL407278</td>\n",
       "      <td>23000.0</td>\n",
       "      <td>nM</td>\n",
       "      <td>CC1CC(Nc2ncnc3[nH]cnc23)CC(C)(C)C1</td>\n",
       "    </tr>\n",
       "    <tr>\n",
       "      <th>5</th>\n",
       "      <td>CHEMBL271138</td>\n",
       "      <td>18000.0</td>\n",
       "      <td>nM</td>\n",
       "      <td>c1nc(N2CCOCC2)c2nc[nH]c2n1</td>\n",
       "    </tr>\n",
       "    <tr>\n",
       "      <th>6</th>\n",
       "      <td>CHEMBL590109</td>\n",
       "      <td>510.0</td>\n",
       "      <td>nM</td>\n",
       "      <td>NCCn1cc(-c2cc(-c3cc4ccccc4s3)c3[nH]ncc3c2)c2nc...</td>\n",
       "    </tr>\n",
       "    <tr>\n",
       "      <th>7</th>\n",
       "      <td>CHEMBL593490</td>\n",
       "      <td>31.0</td>\n",
       "      <td>nM</td>\n",
       "      <td>Cc1[nH]nc2ccc(-c3cc(OC[C@@H](N)Cc4c[nH]c5ccccc...</td>\n",
       "    </tr>\n",
       "    <tr>\n",
       "      <th>8</th>\n",
       "      <td>CHEMBL1090360</td>\n",
       "      <td>531.0</td>\n",
       "      <td>nM</td>\n",
       "      <td>O=C(Cc1ccccc1)Nc1cccc(-c2nc3sccn3c2-c2ccnc(Nc3...</td>\n",
       "    </tr>\n",
       "    <tr>\n",
       "      <th>9</th>\n",
       "      <td>CHEMBL2386715</td>\n",
       "      <td>64.1</td>\n",
       "      <td>nM</td>\n",
       "      <td>COCCN(Cc1cc(F)cc2[nH]ncc12)c1nccc(Nc2cc(C3CC3)...</td>\n",
       "    </tr>\n",
       "  </tbody>\n",
       "</table>\n",
       "</div>"
      ],
      "text/plain": [
       "  molecule_chembl_id     IC50 units  \\\n",
       "0       CHEMBL271139  18000.0    nM   \n",
       "1       CHEMBL259041  38000.0    nM   \n",
       "2       CHEMBL259040  31000.0    nM   \n",
       "3       CHEMBL408244  23000.0    nM   \n",
       "4       CHEMBL407278  23000.0    nM   \n",
       "5       CHEMBL271138  18000.0    nM   \n",
       "6       CHEMBL590109    510.0    nM   \n",
       "7       CHEMBL593490     31.0    nM   \n",
       "8      CHEMBL1090360    531.0    nM   \n",
       "9      CHEMBL2386715     64.1    nM   \n",
       "\n",
       "                                              smiles  \n",
       "0                         c1nc(NC2CCCC2)c2nc[nH]c2n1  \n",
       "1                             CCCCCSc1ncnc2[nH]cnc12  \n",
       "2                        c1nc2cnc(NC3CCCCC3)nc2[nH]1  \n",
       "3                    CC(Sc1ncnc2[nH]cnc12)c1ccccc1Cl  \n",
       "4                 CC1CC(Nc2ncnc3[nH]cnc23)CC(C)(C)C1  \n",
       "5                         c1nc(N2CCOCC2)c2nc[nH]c2n1  \n",
       "6  NCCn1cc(-c2cc(-c3cc4ccccc4s3)c3[nH]ncc3c2)c2nc...  \n",
       "7  Cc1[nH]nc2ccc(-c3cc(OC[C@@H](N)Cc4c[nH]c5ccccc...  \n",
       "8  O=C(Cc1ccccc1)Nc1cccc(-c2nc3sccn3c2-c2ccnc(Nc3...  \n",
       "9  COCCN(Cc1cc(F)cc2[nH]ncc12)c1nccc(Nc2cc(C3CC3)...  "
      ]
     },
     "execution_count": 93,
     "metadata": {},
     "output_type": "execute_result"
    }
   ],
   "source": [
    "output_df.head(10)"
   ]
  },
  {
   "attachments": {},
   "cell_type": "markdown",
   "metadata": {},
   "source": [
    "#### Add pIC50 values"
   ]
  },
  {
   "attachments": {},
   "cell_type": "markdown",
   "metadata": {},
   "source": [
    "As you can see the low IC50 values are difficult to read (values are distributed over multiple scales), which is why we convert the IC50 values to pIC50."
   ]
  },
  {
   "cell_type": "code",
   "execution_count": 94,
   "metadata": {},
   "outputs": [],
   "source": [
    "def convert_ic50_to_pic50(IC50_value):\n",
    "    pIC50_value = 9 - math.log10(IC50_value)\n",
    "    return pIC50_value"
   ]
  },
  {
   "cell_type": "code",
   "execution_count": 95,
   "metadata": {},
   "outputs": [],
   "source": [
    "# Apply conversion to each row of the compounds DataFrame\n",
    "output_df[\"pIC50\"] = output_df.apply(lambda x: convert_ic50_to_pic50(x.IC50), axis=1)"
   ]
  },
  {
   "cell_type": "code",
   "execution_count": 96,
   "metadata": {},
   "outputs": [
    {
     "data": {
      "text/html": [
       "<div>\n",
       "<style scoped>\n",
       "    .dataframe tbody tr th:only-of-type {\n",
       "        vertical-align: middle;\n",
       "    }\n",
       "\n",
       "    .dataframe tbody tr th {\n",
       "        vertical-align: top;\n",
       "    }\n",
       "\n",
       "    .dataframe thead th {\n",
       "        text-align: right;\n",
       "    }\n",
       "</style>\n",
       "<table border=\"1\" class=\"dataframe\">\n",
       "  <thead>\n",
       "    <tr style=\"text-align: right;\">\n",
       "      <th></th>\n",
       "      <th>molecule_chembl_id</th>\n",
       "      <th>IC50</th>\n",
       "      <th>units</th>\n",
       "      <th>smiles</th>\n",
       "      <th>pIC50</th>\n",
       "    </tr>\n",
       "  </thead>\n",
       "  <tbody>\n",
       "    <tr>\n",
       "      <th>0</th>\n",
       "      <td>CHEMBL271139</td>\n",
       "      <td>18000.0</td>\n",
       "      <td>nM</td>\n",
       "      <td>c1nc(NC2CCCC2)c2nc[nH]c2n1</td>\n",
       "      <td>4.744727</td>\n",
       "    </tr>\n",
       "    <tr>\n",
       "      <th>1</th>\n",
       "      <td>CHEMBL259041</td>\n",
       "      <td>38000.0</td>\n",
       "      <td>nM</td>\n",
       "      <td>CCCCCSc1ncnc2[nH]cnc12</td>\n",
       "      <td>4.420216</td>\n",
       "    </tr>\n",
       "    <tr>\n",
       "      <th>2</th>\n",
       "      <td>CHEMBL259040</td>\n",
       "      <td>31000.0</td>\n",
       "      <td>nM</td>\n",
       "      <td>c1nc2cnc(NC3CCCCC3)nc2[nH]1</td>\n",
       "      <td>4.508638</td>\n",
       "    </tr>\n",
       "    <tr>\n",
       "      <th>3</th>\n",
       "      <td>CHEMBL408244</td>\n",
       "      <td>23000.0</td>\n",
       "      <td>nM</td>\n",
       "      <td>CC(Sc1ncnc2[nH]cnc12)c1ccccc1Cl</td>\n",
       "      <td>4.638272</td>\n",
       "    </tr>\n",
       "    <tr>\n",
       "      <th>4</th>\n",
       "      <td>CHEMBL407278</td>\n",
       "      <td>23000.0</td>\n",
       "      <td>nM</td>\n",
       "      <td>CC1CC(Nc2ncnc3[nH]cnc23)CC(C)(C)C1</td>\n",
       "      <td>4.638272</td>\n",
       "    </tr>\n",
       "  </tbody>\n",
       "</table>\n",
       "</div>"
      ],
      "text/plain": [
       "  molecule_chembl_id     IC50 units                              smiles  \\\n",
       "0       CHEMBL271139  18000.0    nM          c1nc(NC2CCCC2)c2nc[nH]c2n1   \n",
       "1       CHEMBL259041  38000.0    nM              CCCCCSc1ncnc2[nH]cnc12   \n",
       "2       CHEMBL259040  31000.0    nM         c1nc2cnc(NC3CCCCC3)nc2[nH]1   \n",
       "3       CHEMBL408244  23000.0    nM     CC(Sc1ncnc2[nH]cnc12)c1ccccc1Cl   \n",
       "4       CHEMBL407278  23000.0    nM  CC1CC(Nc2ncnc3[nH]cnc23)CC(C)(C)C1   \n",
       "\n",
       "      pIC50  \n",
       "0  4.744727  \n",
       "1  4.420216  \n",
       "2  4.508638  \n",
       "3  4.638272  \n",
       "4  4.638272  "
      ]
     },
     "execution_count": 96,
     "metadata": {},
     "output_type": "execute_result"
    }
   ],
   "source": [
    "output_df.head()"
   ]
  },
  {
   "attachments": {},
   "cell_type": "markdown",
   "metadata": {},
   "source": [
    "#### Draw compound data\n",
    "\n",
    "Let's have a look at our collected data set.\n",
    "\n",
    "First, we plot the pIC50 value distribution"
   ]
  },
  {
   "cell_type": "code",
   "execution_count": 97,
   "metadata": {
    "tags": [
     "nbsphinx-thumbnail"
    ]
   },
   "outputs": [
    {
     "data": {
      "text/plain": [
       "array([[<Axes: title={'center': 'pIC50'}>]], dtype=object)"
      ]
     },
     "execution_count": 97,
     "metadata": {},
     "output_type": "execute_result"
    },
    {
     "data": {
      "image/png": "[encoded data removed]",
      "text/plain": [
       "<Figure size 640x480 with 1 Axes>"
      ]
     },
     "metadata": {},
     "output_type": "display_data"
    }
   ],
   "source": [
    "output_df.hist(column=\"pIC50\")"
   ]
  },
  {
   "attachments": {},
   "cell_type": "markdown",
   "metadata": {},
   "source": [
    "In the next steps, we add a column for RDKit molecule objects to our `DataFrame` and look at the structures of the molecules with the highest pIC50 values. "
   ]
  },
  {
   "cell_type": "code",
   "execution_count": 98,
   "metadata": {},
   "outputs": [],
   "source": [
    "# Add molecule column\n",
    "PandasTools.AddMoleculeColumnToFrame(output_df, smilesCol=\"smiles\")"
   ]
  },
  {
   "cell_type": "code",
   "execution_count": 99,
   "metadata": {},
   "outputs": [],
   "source": [
    "# Sort molecules by pIC50\n",
    "output_df.sort_values(by=\"pIC50\", ascending=False, inplace=True)\n",
    "\n",
    "# Reset index\n",
    "output_df.reset_index(drop=True, inplace=True)"
   ]
  },
  {
   "attachments": {},
   "cell_type": "markdown",
   "metadata": {},
   "source": [
    "Show the three most active molecules, i.e. molecules with the highest pIC50 values."
   ]
  },
  {
   "cell_type": "code",
   "execution_count": 100,
   "metadata": {},
   "outputs": [
    {
     "data": {
      "text/html": [
       "<div>\n",
       "<style scoped>\n",
       "    .dataframe tbody tr th:only-of-type {\n",
       "        vertical-align: middle;\n",
       "    }\n",
       "\n",
       "    .dataframe tbody tr th {\n",
       "        vertical-align: top;\n",
       "    }\n",
       "\n",
       "    .dataframe thead th {\n",
       "        text-align: right;\n",
       "    }\n",
       "</style>\n",
       "<table border=\"1\" class=\"dataframe\">\n",
       "  <thead>\n",
       "    <tr style=\"text-align: right;\">\n",
       "      <th></th>\n",
       "      <th>molecule_chembl_id</th>\n",
       "      <th>IC50</th>\n",
       "      <th>units</th>\n",
       "      <th>pIC50</th>\n",
       "      <th>ROMol</th>\n",
       "    </tr>\n",
       "  </thead>\n",
       "  <tbody>\n",
       "    <tr>\n",
       "      <th>0</th>\n",
       "      <td>CHEMBL388978</td>\n",
       "      <td>0.3</td>\n",
       "      <td>nM</td>\n",
       "      <td>9.522879</td>\n",
       "      <td>&lt;rdkit.Chem.rdchem.Mol object at 0x00000174FE3...</td>\n",
       "    </tr>\n",
       "    <tr>\n",
       "      <th>1</th>\n",
       "      <td>CHEMBL3597011</td>\n",
       "      <td>1.0</td>\n",
       "      <td>nM</td>\n",
       "      <td>9.000000</td>\n",
       "      <td>&lt;rdkit.Chem.rdchem.Mol object at 0x00000174FE3...</td>\n",
       "    </tr>\n",
       "    <tr>\n",
       "      <th>2</th>\n",
       "      <td>CHEMBL3597013</td>\n",
       "      <td>2.8</td>\n",
       "      <td>nM</td>\n",
       "      <td>8.552842</td>\n",
       "      <td>&lt;rdkit.Chem.rdchem.Mol object at 0x00000174FE3...</td>\n",
       "    </tr>\n",
       "  </tbody>\n",
       "</table>\n",
       "</div>"
      ],
      "text/plain": [
       "  molecule_chembl_id  IC50 units     pIC50  \\\n",
       "0       CHEMBL388978   0.3    nM  9.522879   \n",
       "1      CHEMBL3597011   1.0    nM  9.000000   \n",
       "2      CHEMBL3597013   2.8    nM  8.552842   \n",
       "\n",
       "                                               ROMol  \n",
       "0  <rdkit.Chem.rdchem.Mol object at 0x00000174FE3...  \n",
       "1  <rdkit.Chem.rdchem.Mol object at 0x00000174FE3...  \n",
       "2  <rdkit.Chem.rdchem.Mol object at 0x00000174FE3...  "
      ]
     },
     "execution_count": 100,
     "metadata": {},
     "output_type": "execute_result"
    }
   ],
   "source": [
    "output_df.drop(\"smiles\", axis=1).head(3)"
   ]
  },
  {
   "cell_type": "code",
   "execution_count": 101,
   "metadata": {},
   "outputs": [
    {
     "name": "stdout",
     "output_type": "stream",
     "text": [
      "DataFrame shape: (237, 5)\n"
     ]
    }
   ],
   "source": [
    "# Prepare saving the dataset: Drop the ROMol column\n",
    "output_df = output_df.drop(\"ROMol\", axis=1)\n",
    "print(f\"DataFrame shape: {output_df.shape}\")"
   ]
  },
  {
   "attachments": {},
   "cell_type": "markdown",
   "metadata": {},
   "source": [
    "#### Freeze output data to ChEMBL 27\n",
    "\n",
    "This is a technical step: Usually, we would continue to work with the dataset that we just created (latest dataset). \n",
    "\n",
    "However, here on the TeachOpenCADD platform, we prefer to freeze the dataset to a certain ChEMBL releases (i.e. [ChEMBL 27](http://doi.org/10.6019/CHEMBL.database.27)), \n",
    "so that this talktorial and other talktorials downstream in our CADD pipeline do not change in the future (helping us to maintain the talktorials)."
   ]
  },
  {
   "attachments": {},
   "cell_type": "markdown",
   "metadata": {},
   "source": [
    "<div class=\"alert alert-block alert-info\">\n",
    "\n",
    "<b>Note:</b> If you prefer to run this notebook on the latest dataset or if you want to use it for another target, please comment the cell below.\n",
    "\n",
    "</div>"
   ]
  },
  {
   "cell_type": "code",
   "execution_count": 102,
   "metadata": {},
   "outputs": [
    {
     "data": {
      "text/html": [
       "<div>\n",
       "<style scoped>\n",
       "    .dataframe tbody tr th:only-of-type {\n",
       "        vertical-align: middle;\n",
       "    }\n",
       "\n",
       "    .dataframe tbody tr th {\n",
       "        vertical-align: top;\n",
       "    }\n",
       "\n",
       "    .dataframe thead th {\n",
       "        text-align: right;\n",
       "    }\n",
       "</style>\n",
       "<table border=\"1\" class=\"dataframe\">\n",
       "  <thead>\n",
       "    <tr style=\"text-align: right;\">\n",
       "      <th></th>\n",
       "      <th>molecule_chembl_id</th>\n",
       "      <th>IC50</th>\n",
       "      <th>units</th>\n",
       "      <th>smiles</th>\n",
       "      <th>pIC50</th>\n",
       "    </tr>\n",
       "  </thead>\n",
       "  <tbody>\n",
       "    <tr>\n",
       "      <th>0</th>\n",
       "      <td>CHEMBL388978</td>\n",
       "      <td>0.3</td>\n",
       "      <td>nM</td>\n",
       "      <td>CN[C@@H]1C[C@H]2O[C@@](C)([C@@H]1OC)n1c3ccccc3...</td>\n",
       "      <td>9.522879</td>\n",
       "    </tr>\n",
       "    <tr>\n",
       "      <th>1</th>\n",
       "      <td>CHEMBL3597011</td>\n",
       "      <td>1.0</td>\n",
       "      <td>nM</td>\n",
       "      <td>CN1CCc2cc(-c3cnc4[nH]cc(C(=O)c5ccccc5Cl)c4c3)c...</td>\n",
       "      <td>9.000000</td>\n",
       "    </tr>\n",
       "    <tr>\n",
       "      <th>2</th>\n",
       "      <td>CHEMBL3597013</td>\n",
       "      <td>2.8</td>\n",
       "      <td>nM</td>\n",
       "      <td>CCn1c(Nc2ccc(N3CCN(C)CC3)cc2)ncc(-c2ccc(-c3cnc...</td>\n",
       "      <td>8.552842</td>\n",
       "    </tr>\n",
       "    <tr>\n",
       "      <th>3</th>\n",
       "      <td>CHEMBL3596921</td>\n",
       "      <td>3.0</td>\n",
       "      <td>nM</td>\n",
       "      <td>O=C(c1ccc(COc2ccccc2)cc1Cl)c1c[nH]c2ncc(-c3cnn...</td>\n",
       "      <td>8.522879</td>\n",
       "    </tr>\n",
       "    <tr>\n",
       "      <th>4</th>\n",
       "      <td>CHEMBL3596932</td>\n",
       "      <td>4.5</td>\n",
       "      <td>nM</td>\n",
       "      <td>CN1CCc2ccc(-c3cnc4[nH]cc(C(=O)c5ccccc5Cl)c4c3)...</td>\n",
       "      <td>8.346787</td>\n",
       "    </tr>\n",
       "  </tbody>\n",
       "</table>\n",
       "</div>"
      ],
      "text/plain": [
       "  molecule_chembl_id  IC50 units  \\\n",
       "0       CHEMBL388978   0.3    nM   \n",
       "1      CHEMBL3597011   1.0    nM   \n",
       "2      CHEMBL3597013   2.8    nM   \n",
       "3      CHEMBL3596921   3.0    nM   \n",
       "4      CHEMBL3596932   4.5    nM   \n",
       "\n",
       "                                              smiles     pIC50  \n",
       "0  CN[C@@H]1C[C@H]2O[C@@](C)([C@@H]1OC)n1c3ccccc3...  9.522879  \n",
       "1  CN1CCc2cc(-c3cnc4[nH]cc(C(=O)c5ccccc5Cl)c4c3)c...  9.000000  \n",
       "2  CCn1c(Nc2ccc(N3CCN(C)CC3)cc2)ncc(-c2ccc(-c3cnc...  8.552842  \n",
       "3  O=C(c1ccc(COc2ccccc2)cc1Cl)c1c[nH]c2ncc(-c3cnn...  8.522879  \n",
       "4  CN1CCc2ccc(-c3cnc4[nH]cc(C(=O)c5ccccc5Cl)c4c3)...  8.346787  "
      ]
     },
     "execution_count": 102,
     "metadata": {},
     "output_type": "execute_result"
    }
   ],
   "source": [
    "# Disable this cell to unfreeze the dataset\n",
    "#output_df = pd.read_csv(\n",
    "    #DATA / \"EGFR_compounds_ea055ef.csv\", index_col=0, float_precision=\"round_trip\"\n",
    "#)\n",
    "output_df.head()"
   ]
  },
  {
   "cell_type": "code",
   "execution_count": 103,
   "metadata": {},
   "outputs": [
    {
     "name": "stdout",
     "output_type": "stream",
     "text": [
      "DataFrame shape: (237, 5)\n"
     ]
    }
   ],
   "source": [
    "print(f\"DataFrame shape: {output_df.shape}\")\n",
    "# NBVAL_CHECK_OUTPUT"
   ]
  },
  {
   "attachments": {},
   "cell_type": "markdown",
   "metadata": {
    "tags": []
   },
   "source": [
    "#### Write output data to file\n",
    "\n",
    "We want to use this bioactivity-compound dataset in the following talktorials, thus we save the data as `csv` file. \n",
    "Note that it is advisable to drop the molecule column (which only contains an image of the molecules) when saving the data."
   ]
  },
  {
   "cell_type": "code",
   "execution_count": 106,
   "metadata": {
    "scrolled": true
   },
   "outputs": [
    {
     "data": {
      "text/html": [
       "<div>\n",
       "<style scoped>\n",
       "    .dataframe tbody tr th:only-of-type {\n",
       "        vertical-align: middle;\n",
       "    }\n",
       "\n",
       "    .dataframe tbody tr th {\n",
       "        vertical-align: top;\n",
       "    }\n",
       "\n",
       "    .dataframe thead th {\n",
       "        text-align: right;\n",
       "    }\n",
       "</style>\n",
       "<table border=\"1\" class=\"dataframe\">\n",
       "  <thead>\n",
       "    <tr style=\"text-align: right;\">\n",
       "      <th></th>\n",
       "      <th>molecule_chembl_id</th>\n",
       "      <th>IC50</th>\n",
       "      <th>units</th>\n",
       "      <th>smiles</th>\n",
       "      <th>pIC50</th>\n",
       "    </tr>\n",
       "  </thead>\n",
       "  <tbody>\n",
       "    <tr>\n",
       "      <th>0</th>\n",
       "      <td>CHEMBL388978</td>\n",
       "      <td>0.3</td>\n",
       "      <td>nM</td>\n",
       "      <td>CN[C@@H]1C[C@H]2O[C@@](C)([C@@H]1OC)n1c3ccccc3...</td>\n",
       "      <td>9.522879</td>\n",
       "    </tr>\n",
       "    <tr>\n",
       "      <th>1</th>\n",
       "      <td>CHEMBL3597011</td>\n",
       "      <td>1.0</td>\n",
       "      <td>nM</td>\n",
       "      <td>CN1CCc2cc(-c3cnc4[nH]cc(C(=O)c5ccccc5Cl)c4c3)c...</td>\n",
       "      <td>9.000000</td>\n",
       "    </tr>\n",
       "    <tr>\n",
       "      <th>2</th>\n",
       "      <td>CHEMBL3597013</td>\n",
       "      <td>2.8</td>\n",
       "      <td>nM</td>\n",
       "      <td>CCn1c(Nc2ccc(N3CCN(C)CC3)cc2)ncc(-c2ccc(-c3cnc...</td>\n",
       "      <td>8.552842</td>\n",
       "    </tr>\n",
       "    <tr>\n",
       "      <th>3</th>\n",
       "      <td>CHEMBL3596921</td>\n",
       "      <td>3.0</td>\n",
       "      <td>nM</td>\n",
       "      <td>O=C(c1ccc(COc2ccccc2)cc1Cl)c1c[nH]c2ncc(-c3cnn...</td>\n",
       "      <td>8.522879</td>\n",
       "    </tr>\n",
       "    <tr>\n",
       "      <th>4</th>\n",
       "      <td>CHEMBL3596932</td>\n",
       "      <td>4.5</td>\n",
       "      <td>nM</td>\n",
       "      <td>CN1CCc2ccc(-c3cnc4[nH]cc(C(=O)c5ccccc5Cl)c4c3)...</td>\n",
       "      <td>8.346787</td>\n",
       "    </tr>\n",
       "  </tbody>\n",
       "</table>\n",
       "</div>"
      ],
      "text/plain": [
       "  molecule_chembl_id  IC50 units  \\\n",
       "0       CHEMBL388978   0.3    nM   \n",
       "1      CHEMBL3597011   1.0    nM   \n",
       "2      CHEMBL3597013   2.8    nM   \n",
       "3      CHEMBL3596921   3.0    nM   \n",
       "4      CHEMBL3596932   4.5    nM   \n",
       "\n",
       "                                              smiles     pIC50  \n",
       "0  CN[C@@H]1C[C@H]2O[C@@](C)([C@@H]1OC)n1c3ccccc3...  9.522879  \n",
       "1  CN1CCc2cc(-c3cnc4[nH]cc(C(=O)c5ccccc5Cl)c4c3)c...  9.000000  \n",
       "2  CCn1c(Nc2ccc(N3CCN(C)CC3)cc2)ncc(-c2ccc(-c3cnc...  8.552842  \n",
       "3  O=C(c1ccc(COc2ccccc2)cc1Cl)c1c[nH]c2ncc(-c3cnn...  8.522879  \n",
       "4  CN1CCc2ccc(-c3cnc4[nH]cc(C(=O)c5ccccc5Cl)c4c3)...  8.346787  "
      ]
     },
     "execution_count": 106,
     "metadata": {},
     "output_type": "execute_result"
    }
   ],
   "source": [
    "output_df.to_csv(DATA / \"PAK1_compounds.csv\")\n",
    "output_df.head()"
   ]
  },
  {
   "cell_type": "code",
   "execution_count": 105,
   "metadata": {},
   "outputs": [
    {
     "name": "stdout",
     "output_type": "stream",
     "text": [
      "DataFrame shape: (237, 5)\n"
     ]
    }
   ],
   "source": [
    "print(f\"DataFrame shape: {output_df.shape}\")\n",
    "# NBVAL_CHECK_OUTPUT"
   ]
  },
  {
   "attachments": {},
   "cell_type": "markdown",
   "metadata": {},
   "source": [
    "## Discussion"
   ]
  },
  {
   "attachments": {},
   "cell_type": "markdown",
   "metadata": {},
   "source": [
    "In this tutorial, we collected bioactivity data for our target of interest from the ChEMBL database. \n",
    "We filtered the data set in order to only contain molecules with measured IC50 bioactivity values. \n",
    "\n",
    "Be aware that ChEMBL data originates from various sources. Compound data has been generated in different labs by different people all over the world. Therefore, we have to be cautious with the predictions we make using this data set. It is always important to consider the source of the data and consistency of data production assays when interpreting the results and determining how much confidence we have in our predictions.\n",
    "\n",
    "In the next tutorials, we will filter our acquired data by Lipinski's rule of five and by unwanted substructures. Another important step would be to *clean* the molecular data. As this is not shown in any of our talktorials (yet), we would like to refer to the [Standardiser library](https://github.com/flatkinson/standardiser) or [MolVS](https://molvs.readthedocs.io/en/latest/) as useful tools for this task."
   ]
  },
  {
   "attachments": {},
   "cell_type": "markdown",
   "metadata": {},
   "source": [
    "## Quiz"
   ]
  },
  {
   "attachments": {},
   "cell_type": "markdown",
   "metadata": {},
   "source": [
    "* We have downloaded in this talktorial molecules and bioactivity data from ChEMBL. What else is the ChEMBL database useful for?\n",
    "* What is the difference between IC50 and EC50?\n",
    "* What can we use the data extracted from ChEMBL for?"
   ]
  }
 ],
 "metadata": {
  "kernelspec": {
   "display_name": "Python 3 (ipykernel)",
   "language": "python",
   "name": "python3"
  },
  "language_info": {
   "codemirror_mode": {
    "name": "ipython",
    "version": 3
   },
   "file_extension": ".py",
   "mimetype": "text/x-python",
   "name": "python",
   "nbconvert_exporter": "python",
   "pygments_lexer": "ipython3",
   "version": "3.8.19"
  },
  "toc-autonumbering": true,
  "toc-showmarkdowntxt": false,
  "toc-showtags": false,
  "widgets": {
   "application/vnd.jupyter.widget-state+json": {
    "state": {},
    "version_major": 2,
    "version_minor": 0
   }
  }
 },
 "nbformat": 4,
 "nbformat_minor": 4
}
